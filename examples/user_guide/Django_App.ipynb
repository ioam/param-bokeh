{
 "cells": [
  {
   "cell_type": "markdown",
   "metadata": {},
   "source": [
    "In the [Introduction](Introduction.ipynb), we showed how to use parambokeh in the Jupyter notebook. Then in [Bokeh_App](Bokeh_App.ipynb), we showed how to use parambokeh in a bokeh server application. Here we show how parambokeh can be used in a Django application.\n",
    "\n",
    "Note that currently, the first (and only) example here does not cover integration between param and django models.\n",
    "\n",
    "To run the example apps yourself, you will first need to install django 2 (e.g. `conda install \"django=2\"`)."
   ]
  },
  {
   "cell_type": "markdown",
   "metadata": {},
   "source": [
    "## sliders app"
   ]
  },
  {
   "cell_type": "markdown",
   "metadata": {},
   "source": [
    "Based on a standard django2 app template, the sliders app shows how to integrate parambokeh with a django view; there's no interaction between param and django models.\n",
    "\n",
    "The sliders app is in examples/apps/django2/sliders.\n",
    "\n",
    "Additions/modifications to the django2 app template:\n",
    "\n",
    "  * `sliders/sinewave.py`: a (pre-existing) parameterized object (to\n",
    "    replace with your own)\n",
    "  \n",
    "  * `sliders/bk_sliders.py`: the parambokeh/bokeh app (based on\n",
    "    https://github.com/bokeh/bokeh/blob/master/examples/app/sliders.py;\n",
    "    to replace with your own)\n",
    "\n",
    "  * sliders/apps.py: how a django app can import and use bokeh server\n",
    "\n",
    "  * sliders/views.py and templates/base.html: getting the bokeh app\n",
    "    into a django view\n",
    "\n",
    "To run: `python manage.py runserver`, then visit http://localhost:8000/sliders in your browser.\n"
   ]
  },
  {
   "cell_type": "markdown",
   "metadata": {},
   "source": [
    "now go through the bits..."
   ]
  }
 ],
 "metadata": {
  "language_info": {
   "name": "python",
   "pygments_lexer": "ipython3"
  }
 },
 "nbformat": 4,
 "nbformat_minor": 2
}
