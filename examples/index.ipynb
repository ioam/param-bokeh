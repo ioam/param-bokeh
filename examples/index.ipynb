{
 "cells": [
  {
   "cell_type": "markdown",
   "metadata": {},
   "source": [
    "# ParamBokeh"
   ]
  },
  {
   "cell_type": "markdown",
   "metadata": {},
   "source": [
    "**Generate bokeh widgets for parameterized objects**\n",
    "\n",
    "ParamBokeh is an [open-source](https://github.com/ioam/parambokeh/blob/master/LICENSE) Python library that allows you to easily create GUIs from existing objects (in Jupyter notebooks, Bokeh apps, and potentially more).\n",
    "\n",
    "The [User Guide](user_guide) shows the concepts involved with ParamBokeh and should help you get started using it as quickly as possible.\n",
    "\n",
    "Please feel free to report [issues](https://github.com/ioam/parambokeh/issues) or [contribute code](https://help.github.com/articles/about-pull-requests). You are also welcome to chat with the developers on [gitter](https://gitter.im/ioam/holoviews)."
   ]
  }
 ],
 "metadata": {
  "kernelspec": {
   "display_name": "Python 3",
   "language": "python",
   "name": "python3"
  },
  "language_info": {
   "codemirror_mode": {
    "name": "ipython",
    "version": 3
   },
   "file_extension": ".py",
   "mimetype": "text/x-python",
   "name": "python",
   "nbconvert_exporter": "python",
   "pygments_lexer": "ipython3",
   "version": "3.6.5"
  }
 },
 "nbformat": 4,
 "nbformat_minor": 2
}
